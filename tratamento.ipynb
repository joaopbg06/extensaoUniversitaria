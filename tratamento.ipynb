{
 "cells": [
  {
   "cell_type": "markdown",
   "metadata": {},
   "source": [
    "## 2013 RESÍDUOS "
   ]
  },
  {
   "cell_type": "markdown",
   "metadata": {},
   "source": [
    "Para mudar o arquivo, basta mudar o link e o ano no bloco que concerta o tipo do dado"
   ]
  },
  {
   "cell_type": "code",
   "execution_count": 29,
   "metadata": {},
   "outputs": [
    {
     "name": "stdout",
     "output_type": "stream",
     "text": [
      "ISO-8859-1\n"
     ]
    }
   ],
   "source": [
    "# Desconbrinco a 'criptografia' do csv\n",
    "\n",
    "import chardet\n",
    "\n",
    "with open('./base/amlurbcoletatiposresiduos2013.csv', 'rb') as f:\n",
    "    result = chardet.detect(f.read())\n",
    "    print(result['encoding'])"
   ]
  },
  {
   "cell_type": "code",
   "execution_count": 30,
   "metadata": {},
   "outputs": [],
   "source": [
    "import pandas as pd\n",
    "\n",
    "df = pd.read_csv('./base/amlurbcoletatiposresiduos2013.csv', encoding='ISO-8859-1', sep=';')\n",
    "\n",
    "# sep=';' --> exencial para separar os valores, vulgo delimitador\n",
    "# encoding='ISO-8859-1' --> precisa 'descriptografar' para ler corretamente os dados"
   ]
  },
  {
   "cell_type": "code",
   "execution_count": 31,
   "metadata": {},
   "outputs": [],
   "source": [
    "# renomeando as coluna com espaço e com acento\n",
    "df.rename(columns={\"TIPO DE RESÖDUO\": \"Tipo_residuo\", \"TOTAL 2013\": \"Total_2013\"}, inplace=True)\n",
    "df.columns = df.columns.str.lower().str.strip()\n",
    "\n"
   ]
  },
  {
   "cell_type": "code",
   "execution_count": 32,
   "metadata": {},
   "outputs": [],
   "source": [
    "# Concertando o tipo de dados\n",
    "\n",
    "df['jan/13'] = df['jan/13'].str.replace(',', '.').astype(float)\n",
    "df['fev/13'] = df['fev/13'].str.replace(',', '.').astype(float)\n",
    "df['mar/13'] = df['mar/13'].str.replace(',', '.').astype(float)\n",
    "df['abr/13'] = df['abr/13'].str.replace(',', '.').astype(float)\n",
    "df['mai/13'] = df['mai/13'].str.replace(',', '.').astype(float)\n",
    "df['jun/13'] = df['jun/13'].str.replace(',', '.').astype(float)\n",
    "df['jul/13'] = df['jul/13'].str.replace(',', '.').astype(float)\n",
    "df['ago/13'] = df['ago/13'].str.replace(',', '.').astype(float)\n",
    "df['set/13'] = df['set/13'].str.replace(',', '.').astype(float)\n",
    "df['out/13'] = df['out/13'].str.replace(',', '.').astype(float)\n",
    "df['nov/13'] = df['nov/13'].str.replace(',', '.').astype(float)\n",
    "df['dez/13'] = df['dez/13'].str.replace(',', '.').astype(float)\n",
    "df['total_2013'] = df['total_2013'].str.replace(',', '.').astype(float)"
   ]
  },
  {
   "cell_type": "code",
   "execution_count": 33,
   "metadata": {},
   "outputs": [],
   "source": [
    "# Padronizando a coluna 'Tipo_residuo'\n",
    "\n",
    "df['tipo_residuo'] = df['tipo_residuo'].str.lower().str.strip()\n",
    "\n",
    "standard_map = {\n",
    "    \"domiciliar\": \"domiciliar\",\n",
    "    \"entulho mecanizado\": \"entulho_mecanizado\",\n",
    "    \"diversos\": \"diversos\",\n",
    "    \"residuos de piscinao\": \"residuos_de_piscinao\",\n",
    "    \"esgoto\": \"esgoto\",\n",
    "    \"residuos de corregos\": \"residuos_de_corregos\",\n",
    "    \"varricao\": \"varricao\",\n",
    "    \"entulho manual\": \"entulho_manual\",\n",
    "    \"seletiva\": \"seletiva\",\n",
    "    \"feira livre\": \"feira_livre\",\n",
    "    \"poda\": \"poda\",\n",
    "    \"gg saude\": \"gestao_saude\",\n",
    "    \"residuos de boca de lobo\": \"residuos_boca_de_lobo\",\n",
    "    \"pg saude\": \"programa_saude\",\n",
    "    \"diversos-emae\": \"diversos_emae\",\n",
    "    \"alim vencidos\": \"alimentos_vencidos\",\n",
    "    \"entulho apreendido\": \"entulho_apreendido\",\n",
    "    \"animais\": \"animais\",\n",
    "    \"varricao mecanizada\": \"varricao_mecanizada\",\n",
    "    \"(vazio)\": \"vazio\",\n",
    "    \"total\": \"total\"\n",
    "}\n",
    "\n",
    "\n",
    "df[\"tipo_residuo\"] = df[\"tipo_residuo\"].map(standard_map)             \n"
   ]
  },
  {
   "cell_type": "code",
   "execution_count": 34,
   "metadata": {},
   "outputs": [
    {
     "name": "stdout",
     "output_type": "stream",
     "text": [
      "<class 'pandas.core.frame.DataFrame'>\n",
      "RangeIndex: 21 entries, 0 to 20\n",
      "Data columns (total 14 columns):\n",
      " #   Column        Non-Null Count  Dtype  \n",
      "---  ------        --------------  -----  \n",
      " 0   tipo_residuo  21 non-null     object \n",
      " 1   jan/13        21 non-null     float64\n",
      " 2   fev/13        21 non-null     float64\n",
      " 3   mar/13        21 non-null     float64\n",
      " 4   abr/13        21 non-null     float64\n",
      " 5   mai/13        21 non-null     float64\n",
      " 6   jun/13        21 non-null     float64\n",
      " 7   jul/13        21 non-null     float64\n",
      " 8   ago/13        21 non-null     float64\n",
      " 9   set/13        21 non-null     float64\n",
      " 10  out/13        21 non-null     float64\n",
      " 11  nov/13        21 non-null     float64\n",
      " 12  dez/13        21 non-null     float64\n",
      " 13  total_2013    21 non-null     float64\n",
      "dtypes: float64(13), object(1)\n",
      "memory usage: 2.4+ KB\n",
      "None\n"
     ]
    }
   ],
   "source": [
    "# visualização data_type\n",
    "print(df.info())"
   ]
  },
  {
   "cell_type": "code",
   "execution_count": 35,
   "metadata": {},
   "outputs": [
    {
     "name": "stdout",
     "output_type": "stream",
     "text": [
      "         tipo_residuo     jan/13     fev/13     mar/13     abr/13     mai/13  \\\n",
      "0          domiciliar  329811.17  306900.44  319322.64  323370.88  311543.84   \n",
      "1  entulho_mecanizado   87669.43   73157.94   77888.83   84883.83   93405.81   \n",
      "2            diversos   27656.96   28013.76   28353.69   28778.87   29615.12   \n",
      "\n",
      "      jun/13     jul/13     ago/13     set/13     out/13     nov/13  \\\n",
      "0  297548.85  317327.32  315676.64  305483.65  331783.32  322859.19   \n",
      "1   95076.82  102690.35   98948.03   92558.41   97351.44   85582.34   \n",
      "2   27063.56   27802.94   25733.42   24146.55   27751.44   26319.56   \n",
      "\n",
      "      dez/13  total_2013  \n",
      "0  349827.25  3831455.19  \n",
      "1   73351.86  1062565.09  \n",
      "2   28519.79   329755.66  \n"
     ]
    }
   ],
   "source": [
    "# visualização\n",
    "print(df.head(3))"
   ]
  }
 ],
 "metadata": {
  "kernelspec": {
   "display_name": "Python 3",
   "language": "python",
   "name": "python3"
  },
  "language_info": {
   "codemirror_mode": {
    "name": "ipython",
    "version": 3
   },
   "file_extension": ".py",
   "mimetype": "text/x-python",
   "name": "python",
   "nbconvert_exporter": "python",
   "pygments_lexer": "ipython3",
   "version": "3.12.1"
  }
 },
 "nbformat": 4,
 "nbformat_minor": 2
}
