{
 "cells": [
  {
   "cell_type": "code",
   "execution_count": 1,
   "metadata": {},
   "outputs": [],
   "source": [
    "import pandas as pd\n",
    "\n",
    "# 1) Carregar o DataFrame unificado com os anos de 2013 a 2020\n",
    "df_unificado = pd.read_excel('tipo_residuos_total.xlsx')\n",
    "df_unificado = df_unificado.drop(df_unificado.index[-1])\n",
    "\n",
    "# 2) Carregar os DataFrames dos anos de 2021, 2023 e 2024\n",
    "df2021 = pd.read_excel('./BaseLimpo/2021_coleta_tipos_residuos.xlsx')\n",
    "df2023 = pd.read_excel('./BaseLimpo/2023_coleta_tipos_residuos.xlsx')\n",
    "df2024 = pd.read_excel('./BaseLimpo/2024_coleta_tipos_residuos.xlsx')\n",
    "\n",
    "# 3) Somar os totais para os anos de 2013 a 2020\n",
    "somas_2013_2020 = {\n",
    "    'ano': [2013, 2014, 2015, 2016, 2017, 2018, 2019, 2020],\n",
    "    'soma_total': [\n",
    "        df_unificado['total_2013'].sum(),\n",
    "        df_unificado['total_2014'].sum(),\n",
    "        df_unificado['total_2015'].sum(),\n",
    "        df_unificado['total_2016'].sum(),\n",
    "        df_unificado['total_2017'].sum(),\n",
    "        df_unificado['total_2018'].sum(),\n",
    "        df_unificado['total_2019'].sum() ,\n",
    "        df_unificado['total_2020'].sum()    ]\n",
    "}\n",
    "\n",
    "# 4) Somar os totais para os anos de 2021, 2023 e 2024\n",
    "soma_2021 = df2021['total_2021'].sum()\n",
    "soma_2023 = df2023['total_2023'].sum()\n",
    "soma_2024 = df2024['total_2024'].sum()\n",
    "\n",
    "# Adicionar as somas de 2021, 2023 e 2024 à lista de somas\n",
    "somas_2013_2020['ano'] += [2021, 2023, 2024]\n",
    "somas_2013_2020['soma_total'] += [soma_2021, soma_2023, soma_2024]\n",
    "\n",
    "\n",
    "df = pd.DataFrame(somas_2013_2020)\n"
   ]
  },
  {
   "cell_type": "code",
   "execution_count": 2,
   "metadata": {},
   "outputs": [],
   "source": [
    "# Deixar o soma_total com apenas 2 número depois do ponto\n",
    "df['soma_total'] = df['soma_total'].round(2)"
   ]
  },
  {
   "cell_type": "code",
   "execution_count": 3,
   "metadata": {},
   "outputs": [],
   "source": [
    "df.to_excel('somas_total_2013_2024.xlsx', index=False)\n"
   ]
  }
 ],
 "metadata": {
  "kernelspec": {
   "display_name": "Python 3",
   "language": "python",
   "name": "python3"
  },
  "language_info": {
   "codemirror_mode": {
    "name": "ipython",
    "version": 3
   },
   "file_extension": ".py",
   "mimetype": "text/x-python",
   "name": "python",
   "nbconvert_exporter": "python",
   "pygments_lexer": "ipython3",
   "version": "3.12.1"
  }
 },
 "nbformat": 4,
 "nbformat_minor": 2
}
