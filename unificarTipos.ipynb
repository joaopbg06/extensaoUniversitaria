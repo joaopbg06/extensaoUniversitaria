{
 "cells": [
  {
   "cell_type": "code",
   "execution_count": 22,
   "metadata": {},
   "outputs": [],
   "source": [
    "import pandas as pd\n",
    "\n",
    "# Carregar os DataFrames\n",
    "df2013 = pd.read_excel('./BaseLimpo/2013_coleta_tipos_residuos.xlsx')\n",
    "df2014 = pd.read_excel('./BaseLimpo/2014_coleta_tipos_residuos.xlsx')\n",
    "df2015 = pd.read_excel('./BaseLimpo/2015_coleta_tipos_residuos.xlsx')\n",
    "df2016 = pd.read_excel('./BaseLimpo/2016_coleta_tipos_residuos.xlsx')\n",
    "df2017 = pd.read_excel('./BaseLimpo/2017_coleta_tipos_residuos.xlsx')\n",
    "df2018 = pd.read_excel('./BaseLimpo/2018_coleta_tipos_residuos.xlsx')\n",
    "df2019 = pd.read_excel('./BaseLimpo/2019_coleta_tipos_residuos.xlsx')\n",
    "df2020 = pd.read_excel('./BaseLimpo/2020_coleta_tipos_residuos.xlsx')\n",
    "\n",
    "\n",
    "# Criar uma lista com os DataFrames, excluindo o de 2022\n",
    "dfs = [df2013, df2014, df2015, df2016, df2017, df2018, df2019, df2020,]\n",
    "\n",
    "# Inicializar o DataFrame final com o primeiro DataFrame (df2013)\n",
    "df = df2013[['tipo_residuo', 'total_2013']]\n",
    "\n",
    "\n",
    "for i,x in enumerate(dfs[1:], start=2014):\n",
    "    \n",
    "    coluna_nome = f'total_{i}'\n",
    "        \n",
    "    # Realizar o merge (junção) com base na coluna 'tipo_residuo\n",
    "    df = pd.merge(df, x[['tipo_residuo', coluna_nome]], on='tipo_residuo', how='outer')\n",
    "\n",
    "\n"
   ]
  },
  {
   "cell_type": "markdown",
   "metadata": {},
   "source": [
    "### Tratamento"
   ]
  },
  {
   "cell_type": "code",
   "execution_count": 23,
   "metadata": {},
   "outputs": [],
   "source": [
    "# Preenchendo os NaN dos números\n",
    "for ano in range(2013, 2021):\n",
    "    df[f'total_{ano}'] = df[f'total_{ano}'].fillna(0)\n",
    "\n"
   ]
  },
  {
   "cell_type": "code",
   "execution_count": 24,
   "metadata": {},
   "outputs": [],
   "source": [
    "# Deletando a ultima linha que é tudo NaN\n",
    "df = df.iloc[:-1]"
   ]
  },
  {
   "cell_type": "code",
   "execution_count": 25,
   "metadata": {},
   "outputs": [],
   "source": [
    "# Padronizando a coluna tipo_residuo\n",
    "\n",
    "df['tipo_residuo'] = df['tipo_residuo'].str.strip().str.lower()"
   ]
  },
  {
   "cell_type": "code",
   "execution_count": 26,
   "metadata": {},
   "outputs": [],
   "source": [
    "# Mudando os nomes \n",
    "\n",
    "df['tipo_residuo'] = df['tipo_residuo'].replace({\n",
    "    'alim vencidos': 'alimentos_vencidos',\n",
    "    'desconsiderando escoria, chorume, cancelamentos e saï¿½das de resï¿½duos': 'nao_classificados',\n",
    "    'diversos-emae': 'diversos_emae',\n",
    "    'entulho apreendido': 'entulho_apreendido',\n",
    "    'entulho do predio': 'entulho_predial',\n",
    "    'entulho manual': 'entulho_manual',\n",
    "    'entulho mecanizado': 'entulho_mecanizado',\n",
    "    'equipe de eventos especiais e operacoes de emergencia': 'eventos_e_emergencias',\n",
    "    'feira livre': 'feira_livre',\n",
    "    'gg saude': 'saude_geral',\n",
    "    'limpeza urbana': 'limpeza_urbana',\n",
    "    'material apreendido': 'material_apreendido',\n",
    "    'patio compostagem': 'compostagem',\n",
    "    'pg saude': 'saude_publica',\n",
    "    'rejeito-cmt carolina maria de jesus': 'rejeitos_cmj', #repetido A\n",
    "    'rejeito-cmt cmj': ' rejeitos_cmj', #repetido A\n",
    "    'remocao residuos descartados': 'remocao_residuos', \n",
    "    'residuo de acumulador': 'acumuladores',\n",
    "    'residuo de desfazimento': 'desfazimentos',\n",
    "    'residuo ecoponto - entulho': 'ecoponto_entulho',\n",
    "    'residuos de boca de lobo': 'bocas_de_lobo',\n",
    "    'residuos de corregos': 'corregos',\n",
    "    'residuos de ecoponto': 'ecoponto',\n",
    "    'residuos de ecoponto - diversos': 'ecoponto_diversos',\n",
    "    'residuos de piscinao': 'piscinoes',\n",
    "    'residuos patio compostagem': 'patio_compostagem',\n",
    "    'seletiva': 'coleta_seletiva',\n",
    "    'varricao': 'varricao_manual',\n",
    "    'varricao mecanizada ': 'varricao_mecanizada',\n",
    "    \n",
    "})\n",
    "\n",
    "df['tipo_residuo'] = df['tipo_residuo'].str.strip().str.lower()"
   ]
  },
  {
   "cell_type": "code",
   "execution_count": 27,
   "metadata": {},
   "outputs": [],
   "source": [
    "# Somando as duplicadas para não perder os dados\n",
    "\n",
    "duplicadas = df[df.duplicated('tipo_residuo', keep=False)]\n",
    "df.loc[duplicadas.index, df.columns != 'tipo_residuo'] = duplicadas.groupby('tipo_residuo', sort=False).transform('sum').loc[duplicadas.index]\n",
    "df = df.drop_duplicates()"
   ]
  },
  {
   "cell_type": "code",
   "execution_count": 28,
   "metadata": {},
   "outputs": [],
   "source": [
    "# Salvar em excel\n",
    "\n",
    "df.to_excel('tipo_residuos_total.xlsx', index=False)\n"
   ]
  }
 ],
 "metadata": {
  "kernelspec": {
   "display_name": "Python 3",
   "language": "python",
   "name": "python3"
  },
  "language_info": {
   "codemirror_mode": {
    "name": "ipython",
    "version": 3
   },
   "file_extension": ".py",
   "mimetype": "text/x-python",
   "name": "python",
   "nbconvert_exporter": "python",
   "pygments_lexer": "ipython3",
   "version": "3.12.1"
  }
 },
 "nbformat": 4,
 "nbformat_minor": 2
}
